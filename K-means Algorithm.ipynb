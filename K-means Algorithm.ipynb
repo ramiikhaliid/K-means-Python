{
 "cells": [
  {
   "cell_type": "code",
   "execution_count": 1,
   "metadata": {},
   "outputs": [],
   "source": [
    "import numpy as np\n",
    "import pandas as pd\n",
    "from random import seed\n",
    "from random import randint\n",
    "import random\n",
    "import math "
   ]
  },
  {
   "cell_type": "code",
   "execution_count": 75,
   "metadata": {},
   "outputs": [
    {
     "name": "stdout",
     "output_type": "stream",
     "text": [
      "Cluster:1\n",
      "[array([1., 1.]), array([1.5, 2. ]), array([3., 4.]), array([3.5, 5. ]), array([3.5, 4.5])]\n",
      "\n",
      "Cluster:2\n",
      "[array([5., 7.]), array([4.5, 5. ])]\n",
      "\n"
     ]
    }
   ],
   "source": [
    "## k= no. of centers\n",
    "k=2\n",
    "Newxx=[]\n",
    "xx=[]\n",
    "#arr=np.random.randint(1, 15, size=(8, 2)) if you want random inputs\n",
    "### Add in the 'arr' the points you have\n",
    "arr=np.array([[1,1],[1.5,2],[3,4],[5,7],[3.5,5],[4.5,5],[3.5,4.5]])\n",
    "#arr = arr.astype('float64')\n",
    "#arr\n",
    "\n",
    "number_of_rows = arr.shape[0]\n",
    "random_indices = np.random.choice(number_of_rows, size=k, replace=False)\n",
    "centroids = arr[random_indices, :]\n",
    "#print(centroids) \n",
    "\n",
    "R = np.zeros((len(arr),k))\n",
    "#print(R)\n",
    "while(1):\n",
    "    for i in range(k):\n",
    "        for x in range(len(arr)):\n",
    "            R[x][i]=math.sqrt((pow((arr[x][0]-centroids[i][0]),2))+(pow((arr[x][1]-centroids[i][1]),2)))\n",
    "    #print(R)\n",
    "\n",
    "    for x in range(len(R)):\n",
    "        a = R[x]\n",
    "        xx.append(np.argmin(a))\n",
    "    xx\n",
    "    C = [[] for _ in range(k)]\n",
    "    for i in range (len(xx)):\n",
    "           C[xx[i]].append(arr[i]) \n",
    "\n",
    "    #C\n",
    "\n",
    "    for j in range(k):\n",
    "        if len(C[j])>1:\n",
    "            x=len(C[j])\n",
    "            v=0\n",
    "            f=0\n",
    "            for i in range(len(C[j])):\n",
    "                v+=C[j][i][0]\n",
    "                f+=C[j][i][1]\n",
    "            #print (v/x)\n",
    "            centroids[j][0]=(v/x)\n",
    "            centroids[j][1]=(f/x)\n",
    "\n",
    "\n",
    "    #centroids  \n",
    "\n",
    "\n",
    "    if xx==Newxx:\n",
    "        break\n",
    "    else:\n",
    "        for i in range(k):\n",
    "            print(\"Cluster:\"+str(i+1))\n",
    "            print(C[i])\n",
    "            print(\"\")\n",
    "        Newxx=xx\n",
    "        xx.clear()\n",
    "        \n",
    "        \n"
   ]
  },
  {
   "cell_type": "code",
   "execution_count": null,
   "metadata": {},
   "outputs": [],
   "source": []
  },
  {
   "cell_type": "code",
   "execution_count": null,
   "metadata": {},
   "outputs": [],
   "source": []
  }
 ],
 "metadata": {
  "kernelspec": {
   "display_name": "Python 3",
   "language": "python",
   "name": "python3"
  },
  "language_info": {
   "codemirror_mode": {
    "name": "ipython",
    "version": 3
   },
   "file_extension": ".py",
   "mimetype": "text/x-python",
   "name": "python",
   "nbconvert_exporter": "python",
   "pygments_lexer": "ipython3",
   "version": "3.7.1"
  }
 },
 "nbformat": 4,
 "nbformat_minor": 4
}
